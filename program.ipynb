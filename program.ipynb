import numpy as np 
import pandas as pd 
from pandas import read_csv
from keras.models import Sequential
from keras.optimizers import SGD
from keras.constraints import maxnorm
from keras.layers import Dense,Dropout
from keras.wrappers.scikit_learn import KerasClassifier
from sklearn.model_selection import cross_val_score,StratifiedKFold
from sklearn.preprocessing import LabelEncoder,StandardScaler
from sklearn.pipeline import Pipeline
import os
print(os.listdir("../input"))
